{
 "cells": [
  {
   "cell_type": "markdown",
   "metadata": {},
   "source": [
    "# Les fichiers\n",
    "Python utilise des objets \"fichier\" pour interagir avec les fichiers de votre ordinateur. Ces objets fichier peuvent être n'importe quel type de fichier présent dans votre ordinateur, que ce soit un fichier audio, texte, un message électronique, un document Excel, etc. \n",
    "\n",
    "Note:\n",
    "Vous devrez probablement installer des bibliothèques ou des modules particuliers pour pouvoir manipuler ces différents types de fichiers, ceux-ci sont disponibles très facilement et nous verrons un peu plus tard dans le cours comment les télécharger et les ajouter à votre installation.\n",
    "\n",
    "Python possède une fonction intégrée pour ouvrir et manipuler des fichiers de type basique. Pour commencer, nous allons avoir besoin d'un fichier. Nous allons utiliser la fonction magique writefile de iPython pour créer un fichier de texte !\n",
    "\n",
    "## On utilise iPython pour écrire le fichier test.txt"
   ]
  },
  {
   "cell_type": "code",
   "execution_count": 1,
   "metadata": {
    "slideshow": {
     "slide_type": "subslide"
    }
   },
   "outputs": [
    {
     "name": "stdout",
     "output_type": "stream",
     "text": [
      "Overwriting test.txt\n"
     ]
    }
   ],
   "source": [
    "%%writefile test.txt\n",
    "Bonjour, ceci est un petit fichier de test"
   ]
  },
  {
   "cell_type": "markdown",
   "metadata": {},
   "source": [
    "## Ouvrir le fichier avec Python\n",
    "\n",
    "Nous pouvons ouvrir un fichier avec la fonction open(). Cette fonction accepte des arguments (ou pramètres).\n",
    "Voyons comment elle est utilisée :"
   ]
  },
  {
   "cell_type": "code",
   "execution_count": null,
   "metadata": {},
   "outputs": [],
   "source": [
    "# Ouvrir le fichier text.txt que nous venons de créer\n",
    "mon_fichier = open('test.txt')"
   ]
  },
  {
   "cell_type": "code",
   "execution_count": null,
   "metadata": {},
   "outputs": [],
   "source": [
    "print(dir(mon_fichier))"
   ]
  },
  {
   "cell_type": "code",
   "execution_count": null,
   "metadata": {},
   "outputs": [],
   "source": [
    "# Nous pouvons maintenant lire le fichier\n",
    "mon_fichier.read()"
   ]
  },
  {
   "cell_type": "code",
   "execution_count": null,
   "metadata": {},
   "outputs": [],
   "source": [
    "# Mais que se passe-t-il quand on essaie de le lire à nouveau ?\n",
    "mon_fichier.read()"
   ]
  },
  {
   "cell_type": "markdown",
   "metadata": {},
   "source": [
    "Ce qui se produit est que le \"pointeur\" de lecture se trouve à la fin du fichier après l'avoir lu. Il n'y a donc plus rien à lire. Il est possible de réinitialiser le \"curseur\" de la manière suivante :"
   ]
  },
  {
   "cell_type": "code",
   "execution_count": null,
   "metadata": {},
   "outputs": [],
   "source": [
    "# Pointer le début du fichier(index 0)\n",
    "mon_fichier.seek(0)"
   ]
  },
  {
   "cell_type": "code",
   "execution_count": null,
   "metadata": {},
   "outputs": [],
   "source": [
    "# Lire de nouveau\n",
    "mon_fichier.read()"
   ]
  },
  {
   "cell_type": "markdown",
   "metadata": {},
   "source": [
    "Pour ne pas avoir à réinitialiser chaque fois qu'une ligne est lue, il est aussi possible d'utiliser la méthode readlines pour lire tout le contenu du fichier à la fois et le stocker dans une liste.\n",
    "Il faut toutefois être très prudent quand on l'utilise avec de gros fichiers, parce que tout est conservé en mémoire. Nous verrons comment répéter la lecture sur un gros fichier plus tard dans le cours."
   ]
  },
  {
   "cell_type": "code",
   "execution_count": null,
   "metadata": {},
   "outputs": [],
   "source": [
    "# Readlines renvoie la liste des lignes du fichier\n",
    "mon_fichier.readlines()"
   ]
  },
  {
   "cell_type": "markdown",
   "metadata": {},
   "source": [
    "## Écrire dans un fichier\n",
    "Par défaut, la fonction open() ne nous permettra que la lecture du fichier, il faut utiliser un argument 'w' pour pouvoir écrire. Par exemple :\n"
   ]
  },
  {
   "cell_type": "code",
   "execution_count": null,
   "metadata": {},
   "outputs": [],
   "source": [
    "# Ajout d'un deuxième argument à la fonction. \n",
    "# 'w' pour écrire ('write' en anglais)\n",
    "# 'w+' pour écrire et lire\n",
    "mon_fichier = open('test.txt','w+')"
   ]
  },
  {
   "cell_type": "code",
   "execution_count": null,
   "metadata": {},
   "outputs": [],
   "source": [
    "# Écrire dans le fichier\n",
    "mon_fichier.write('Ceci est un petit fichier de test')"
   ]
  },
  {
   "cell_type": "code",
   "execution_count": null,
   "metadata": {},
   "outputs": [],
   "source": [
    "# Lire le fichier\n",
    "mon_fichier.read()"
   ]
  },
  {
   "cell_type": "markdown",
   "metadata": {},
   "source": [
    "## Répéter les opérations à travers un fichier\n",
    "\n",
    "Voyons comment réaliser une boucle for pour répéter une opération sur tout le contenu du fichier.\n",
    "Avant cela, nous allons créer un nouveau fichier texte en utilisant une fonction magique de iPython"
   ]
  },
  {
   "cell_type": "code",
   "execution_count": null,
   "metadata": {},
   "outputs": [],
   "source": [
    "%%writefile test.txt\n",
    "Première ligne\n",
    "Deuxième ligne"
   ]
  },
  {
   "cell_type": "markdown",
   "metadata": {},
   "source": [
    "Maintenant nous pouvons réaliser notre boucle et demander au programme de faire quelque chose à chaque nouvelle ligne lue : "
   ]
  },
  {
   "cell_type": "code",
   "execution_count": null,
   "metadata": {},
   "outputs": [],
   "source": [
    "for ligne in open('test.txt'):\n",
    "    print(ligne)"
   ]
  },
  {
   "cell_type": "markdown",
   "metadata": {},
   "source": [
    "Ne vous inquiétez pas si vous ne comprenez pas encore tout ceci, nous verrons bientôt les boucles for. \n",
    "Nous allons décomposer ce que nous venons de faire. Nous avons demandé que pour chaque ligne du fichier texte, affiche la ligne et continue. Il est important de noter les choses suivantes :\n",
    "\n",
    "    1.) On peut appeler l'objet 'ligne' comme on veut (voir l'exemple suivant).\n",
    "    2.) Ne pas appeler la méthode .read() pour le fichier évite qu'il ne soit stocké en mémoire.\n",
    "    3.) Remarquez l'indentation du texte pour la ligne du print. Ces espaces sont obligatoires en Python.\n",
    "   \n",
    "Nous verrons bientôt tout cela avec plus de détails, mais pour l'instant nous passons aux sets et aux Booléens !"
   ]
  },
  {
   "cell_type": "code",
   "execution_count": null,
   "metadata": {},
   "outputs": [],
   "source": [
    "# Deuxième exemple pour préciser le premier point\n",
    "for asdf in open('test.txt'):\n",
    "    print(asdf)"
   ]
  },
  {
   "cell_type": "code",
   "execution_count": null,
   "metadata": {},
   "outputs": [],
   "source": []
  }
 ],
 "metadata": {
  "anaconda-cloud": {},
  "hide_input": false,
  "kernelspec": {
   "display_name": "Python 3",
   "language": "python",
   "name": "python3"
  },
  "language_info": {
   "codemirror_mode": {
    "name": "ipython",
    "version": 3
   },
   "file_extension": ".py",
   "mimetype": "text/x-python",
   "name": "python",
   "nbconvert_exporter": "python",
   "pygments_lexer": "ipython3",
   "version": "3.6.7"
  },
  "latex_envs": {
   "LaTeX_envs_menu_present": true,
   "autoclose": true,
   "autocomplete": true,
   "bibliofile": "biblio.bib",
   "cite_by": "apalike",
   "current_citInitial": 1,
   "eqLabelWithNumbers": true,
   "eqNumInitial": 1,
   "hotkeys": {
    "equation": "Ctrl-E",
    "itemize": "Ctrl-I"
   },
   "labels_anchors": false,
   "latex_user_defs": false,
   "report_style_numbering": false,
   "user_envs_cfg": true
  }
 },
 "nbformat": 4,
 "nbformat_minor": 2
}
